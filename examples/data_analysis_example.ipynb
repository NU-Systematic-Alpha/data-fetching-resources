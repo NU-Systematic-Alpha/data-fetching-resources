{
 "cells": [
  {
   "cell_type": "markdown",
   "metadata": {},
   "source": [
    "# Financial Data Analysis Example\n",
    "\n",
    "This notebook demonstrates how to use the data fetching library for quantitative analysis."
   ]
  },
  {
   "cell_type": "code",
   "execution_count": null,
   "metadata": {},
   "outputs": [],
   "source": [
    "# Setup\n",
    "import sys\n",
    "import os\n",
    "sys.path.append('..')\n",
    "\n",
    "import pandas as pd\n",
    "import numpy as np\n",
    "import matplotlib.pyplot as plt\n",
    "import seaborn as sns\n",
    "from datetime import datetime, timedelta\n",
    "\n",
    "# Import our modules\n",
    "from src.polygon import StockDataFetcher, OptionsDataFetcher, TreasuryDataFetcher\n",
    "\n",
    "# Configure plotting\n",
    "plt.style.use('seaborn-v0_8-darkgrid')\n",
    "%matplotlib inline"
   ]
  },
  {
   "cell_type": "markdown",
   "metadata": {},
   "source": [
    "## 1. Stock Analysis"
   ]
  },
  {
   "cell_type": "code",
   "execution_count": null,
   "metadata": {},
   "outputs": [],
   "source": [
    "# Initialize stock fetcher\n",
    "stock_fetcher = StockDataFetcher()\n",
    "\n",
    "# Fetch data for multiple tech stocks\n",
    "tickers = ['AAPL', 'MSFT', 'GOOGL', 'NVDA']\n",
    "end_date = datetime.now()\n",
    "start_date = end_date - timedelta(days=252)  # 1 year\n",
    "\n",
    "stock_data = stock_fetcher.fetch_multiple_bars(\n",
    "    tickers=tickers,\n",
    "    start_date=start_date,\n",
    "    end_date=end_date,\n",
    "    timeframe='day'\n",
    ")"
   ]
  },
  {
   "cell_type": "code",
   "execution_count": null,
   "metadata": {},
   "outputs": [],
   "source": [
    "# Calculate returns\n",
    "returns = pd.DataFrame()\n",
    "for ticker, data in stock_data.items():\n",
    "    if not data.empty:\n",
    "        returns[ticker] = data['close'].pct_change()\n",
    "\n",
    "# Plot cumulative returns\n",
    "cumulative_returns = (1 + returns).cumprod() - 1\n",
    "\n",
    "plt.figure(figsize=(12, 6))\n",
    "for ticker in returns.columns:\n",
    "    plt.plot(cumulative_returns.index, cumulative_returns[ticker], label=ticker)\n",
    "\n",
    "plt.title('Cumulative Returns - Tech Stocks')\n",
    "plt.xlabel('Date')\n",
    "plt.ylabel('Cumulative Return')\n",
    "plt.legend()\n",
    "plt.tight_layout()\n",
    "plt.show()"
   ]
  },
  {
   "cell_type": "code",
   "execution_count": null,
   "metadata": {},
   "outputs": [],
   "source": [
    "# Correlation matrix\n",
    "correlation = returns.corr()\n",
    "\n",
    "plt.figure(figsize=(8, 6))\n",
    "sns.heatmap(correlation, annot=True, cmap='coolwarm', center=0)\n",
    "plt.title('Stock Returns Correlation Matrix')\n",
    "plt.tight_layout()\n",
    "plt.show()"
   ]
  },
  {
   "cell_type": "markdown",
   "metadata": {},
   "source": [
    "## 2. Options Analysis"
   ]
  },
  {
   "cell_type": "code",
   "execution_count": null,
   "metadata": {},
   "outputs": [],
   "source": [
    "# Initialize options fetcher\n",
    "options_fetcher = OptionsDataFetcher()\n",
    "\n",
    "# Get SPY options chain\n",
    "spy_price = stock_fetcher.fetch_snapshot('SPY')['last_trade']['price']\n",
    "print(f\"Current SPY price: ${spy_price:.2f}\")\n",
    "\n",
    "# Fetch near-the-money options\n",
    "options = options_fetcher.fetch_options_chain(\n",
    "    underlying_ticker='SPY',\n",
    "    strike_price_gte=spy_price * 0.95,\n",
    "    strike_price_lte=spy_price * 1.05\n",
    ")"
   ]
  },
  {
   "cell_type": "code",
   "execution_count": null,
   "metadata": {},
   "outputs": [],
   "source": [
    "# Analyze options by expiration\n",
    "expirations = {}\n",
    "for opt in options:\n",
    "    exp = opt.expiration_date\n",
    "    if exp not in expirations:\n",
    "        expirations[exp] = {'calls': [], 'puts': []}\n",
    "    expirations[exp][f\"{opt.contract_type}s\"].append(opt)\n",
    "\n",
    "# Plot strike distribution for nearest expiration\n",
    "if expirations:\n",
    "    nearest_exp = min(expirations.keys())\n",
    "    \n",
    "    call_strikes = [opt.strike_price for opt in expirations[nearest_exp]['calls']]\n",
    "    put_strikes = [opt.strike_price for opt in expirations[nearest_exp]['puts']]\n",
    "    \n",
    "    plt.figure(figsize=(10, 6))\n",
    "    plt.hist(call_strikes, bins=20, alpha=0.5, label='Calls', color='green')\n",
    "    plt.hist(put_strikes, bins=20, alpha=0.5, label='Puts', color='red')\n",
    "    plt.axvline(spy_price, color='black', linestyle='--', label='Current Price')\n",
    "    plt.xlabel('Strike Price')\n",
    "    plt.ylabel('Count')\n",
    "    plt.title(f'Strike Distribution - SPY Options Expiring {nearest_exp}')\n",
    "    plt.legend()\n",
    "    plt.tight_layout()\n",
    "    plt.show()"
   ]
  },
  {
   "cell_type": "markdown",
   "metadata": {},
   "source": [
    "## 3. Treasury Yield Analysis"
   ]
  },
  {
   "cell_type": "code",
   "execution_count": null,
   "metadata": {},
   "outputs": [],
   "source": [
    "# Initialize treasury fetcher\n",
    "treasury_fetcher = TreasuryDataFetcher()\n",
    "\n",
    "# Fetch current yield curve\n",
    "yield_curve = treasury_fetcher.fetch_yield_curve(datetime.now())\n",
    "\n",
    "# Plot yield curve\n",
    "plt.figure(figsize=(10, 6))\n",
    "plt.plot(yield_curve['years'], yield_curve['yield'], 'bo-', markersize=8)\n",
    "plt.xlabel('Maturity (Years)')\n",
    "plt.ylabel('Yield (%)')\n",
    "plt.title('Current US Treasury Yield Curve')\n",
    "plt.grid(True, alpha=0.3)\n",
    "plt.tight_layout()\n",
    "plt.show()"
   ]
  },
  {
   "cell_type": "code",
   "execution_count": null,
   "metadata": {},
   "outputs": [],
   "source": [
    "# Fetch historical yield data\n",
    "yield_history = treasury_fetcher.fetch_yield_curve_history(\n",
    "    start_date=start_date,\n",
    "    end_date=end_date,\n",
    "    maturities=['2Y', '10Y', '30Y']\n",
    ")\n",
    "\n",
    "# Calculate and plot yield spreads\n",
    "spreads = treasury_fetcher.calculate_yield_spreads(yield_history)\n",
    "\n",
    "plt.figure(figsize=(12, 6))\n",
    "for spread in spreads.columns:\n",
    "    plt.plot(spreads.index, spreads[spread], label=spread)\n",
    "\n",
    "plt.axhline(0, color='black', linestyle='--', alpha=0.5)\n",
    "plt.xlabel('Date')\n",
    "plt.ylabel('Spread (%)')\n",
    "plt.title('Treasury Yield Spreads Over Time')\n",
    "plt.legend()\n",
    "plt.tight_layout()\n",
    "plt.show()"
   ]
  },
  {
   "cell_type": "markdown",
   "metadata": {},
   "source": [
    "## 4. Cross-Asset Analysis"
   ]
  },
  {
   "cell_type": "code",
   "execution_count": null,
   "metadata": {},
   "outputs": [],
   "source": [
    "# Compare stock returns with treasury yields\n",
    "spy_data = stock_fetcher.fetch_bars('SPY', start_date, end_date)\n",
    "spy_returns = spy_data['close'].pct_change().rolling(20).mean() * 252  # Annualized\n",
    "\n",
    "# Plot stock returns vs 10Y yield\n",
    "fig, ax1 = plt.subplots(figsize=(12, 6))\n",
    "\n",
    "ax1.plot(spy_returns.index, spy_returns, 'b-', label='SPY 20-day Returns (Ann.)')\n",
    "ax1.set_xlabel('Date')\n",
    "ax1.set_ylabel('SPY Returns (%)', color='b')\n",
    "ax1.tick_params(axis='y', labelcolor='b')\n",
    "\n",
    "ax2 = ax1.twinx()\n",
    "ax2.plot(yield_history.index, yield_history['10Y'], 'r-', label='10Y Treasury Yield')\n",
    "ax2.set_ylabel('10Y Yield (%)', color='r')\n",
    "ax2.tick_params(axis='y', labelcolor='r')\n",
    "\n",
    "plt.title('SPY Returns vs 10Y Treasury Yield')\n",
    "plt.tight_layout()\n",
    "plt.show()"
   ]
  },
  {
   "cell_type": "markdown",
   "metadata": {},
   "source": [
    "## 5. Risk Metrics"
   ]
  },
  {
   "cell_type": "code",
   "execution_count": null,
   "metadata": {},
   "outputs": [],
   "source": [
    "# Calculate various risk metrics\n",
    "risk_metrics = pd.DataFrame()\n",
    "\n",
    "for ticker in returns.columns:\n",
    "    ticker_returns = returns[ticker].dropna()\n",
    "    \n",
    "    # Basic metrics\n",
    "    metrics = {\n",
    "        'Annual Return': ticker_returns.mean() * 252,\n",
    "        'Annual Volatility': ticker_returns.std() * np.sqrt(252),\n",
    "        'Sharpe Ratio': (ticker_returns.mean() * 252) / (ticker_returns.std() * np.sqrt(252)),\n",
    "        'Max Drawdown': (ticker_returns.cumsum().expanding().max() - ticker_returns.cumsum()).max(),\n",
    "        'Skewness': ticker_returns.skew(),\n",
    "        'Kurtosis': ticker_returns.kurtosis()\n",
    "    }\n",
    "    \n",
    "    risk_metrics[ticker] = metrics\n",
    "\n",
    "# Display risk metrics\n",
    "risk_metrics = risk_metrics.T\n",
    "print(\"Risk Metrics Summary:\")\n",
    "print(risk_metrics.round(3))"
   ]
  },
  {
   "cell_type": "code",
   "execution_count": null,
   "metadata": {},
   "outputs": [],
   "source": [
    "# Visualize risk-return profile\n",
    "plt.figure(figsize=(10, 8))\n",
    "\n",
    "for ticker in risk_metrics.index:\n",
    "    plt.scatter(\n",
    "        risk_metrics.loc[ticker, 'Annual Volatility'] * 100,\n",
    "        risk_metrics.loc[ticker, 'Annual Return'] * 100,\n",
    "        s=200,\n",
    "        label=ticker\n",
    "    )\n",
    "    plt.annotate(ticker, \n",
    "                 (risk_metrics.loc[ticker, 'Annual Volatility'] * 100,\n",
    "                  risk_metrics.loc[ticker, 'Annual Return'] * 100),\n",
    "                 xytext=(5, 5), textcoords='offset points')\n",
    "\n",
    "plt.xlabel('Annual Volatility (%)')\n",
    "plt.ylabel('Annual Return (%)')\n",
    "plt.title('Risk-Return Profile')\n",
    "plt.grid(True, alpha=0.3)\n",
    "plt.tight_layout()\n",
    "plt.show()"
   ]
  }
 ],
 "metadata": {
  "kernelspec": {
   "display_name": "Python 3",
   "language": "python",
   "name": "python3"
  },
  "language_info": {
   "codemirror_mode": {
    "name": "ipython",
    "version": 3
   },
   "file_extension": ".py",
   "mimetype": "text/x-python",
   "name": "python",
   "nbconvert_exporter": "python",
   "pygments_lexer": "ipython3",
   "version": "3.8.0"
  }
 },
 "nbformat": 4,
 "nbformat_minor": 4
}